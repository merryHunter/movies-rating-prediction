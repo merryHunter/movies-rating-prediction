{
 "cells": [
  {
   "cell_type": "code",
   "execution_count": 60,
   "id": "33141b6f",
   "metadata": {},
   "outputs": [],
   "source": [
    "from PIL import Image\n",
    "import requests\n",
    "from transformers import AutoProcessor, AutoModel\n",
    "import torch\n",
    "\n",
    "model = AutoModel.from_pretrained(\"google/siglip-base-patch16-224\")\n",
    "model.to('cuda')\n",
    "model.half()\n",
    "processor = AutoProcessor.from_pretrained(\"google/siglip-base-patch16-224\", device='cuda')"
   ]
  },
  {
   "cell_type": "code",
   "execution_count": 81,
   "id": "4977f4de",
   "metadata": {},
   "outputs": [],
   "source": [
    "import polars as pl\n",
    "\n",
    "df = pl.read_csv(\"../data/filtered/movies.csv\")\n"
   ]
  },
  {
   "cell_type": "code",
   "execution_count": null,
   "id": "329c38c2",
   "metadata": {},
   "outputs": [],
   "source": [
    "def get_image_features(image_id):\n",
    "    try:\n",
    "        img = Image.open(f\"../data/filtered/posters/posters/{image_id}.jpg\")\n",
    "        inputs = processor(images=img, return_tensors=\"pt\")\n",
    "        inputs = {k: v.to('cuda') for k, v in inputs.items()}\n",
    "        with torch.no_grad():\n",
    "            image_features = model.get_image_features(**inputs)\n",
    "        return image_features.cpu().numpy()[0]\n",
    "    except Exception as e:\n",
    "        print(f\"Error processing image {image_id}: {e}\")\n",
    "        return [0] * 768"
   ]
  },
  {
   "cell_type": "code",
   "execution_count": null,
   "id": "9d18eea1",
   "metadata": {},
   "outputs": [
    {
     "name": "stderr",
     "output_type": "stream",
     "text": [
      " 55%|█████▌    | 5854/10599 [01:25<01:07, 69.99it/s]"
     ]
    },
    {
     "name": "stdout",
     "output_type": "stream",
     "text": [
      "Error processing image 5840: Unsupported number of image dimensions: 2\n"
     ]
    },
    {
     "name": "stderr",
     "output_type": "stream",
     "text": [
      " 62%|██████▏   | 6576/10599 [01:37<01:08, 58.63it/s]"
     ]
    },
    {
     "name": "stdout",
     "output_type": "stream",
     "text": [
      "Error processing image 6568: Unsupported number of image dimensions: 2\n"
     ]
    },
    {
     "name": "stderr",
     "output_type": "stream",
     "text": [
      " 64%|██████▎   | 6750/10599 [01:40<00:56, 68.11it/s]"
     ]
    },
    {
     "name": "stdout",
     "output_type": "stream",
     "text": [
      "Error processing image 6738: Unsupported number of image dimensions: 2\n"
     ]
    },
    {
     "name": "stderr",
     "output_type": "stream",
     "text": [
      " 69%|██████▉   | 7289/10599 [01:47<00:42, 77.32it/s]"
     ]
    },
    {
     "name": "stdout",
     "output_type": "stream",
     "text": [
      "Error processing image 7274: Unsupported number of image dimensions: 2\n"
     ]
    },
    {
     "name": "stderr",
     "output_type": "stream",
     "text": [
      " 73%|███████▎  | 7699/10599 [01:53<00:37, 78.15it/s]"
     ]
    },
    {
     "name": "stdout",
     "output_type": "stream",
     "text": [
      "Error processing image 7687: Unsupported number of image dimensions: 2\n"
     ]
    },
    {
     "name": "stderr",
     "output_type": "stream",
     "text": [
      " 76%|███████▌  | 8018/10599 [01:57<00:31, 80.76it/s]"
     ]
    },
    {
     "name": "stdout",
     "output_type": "stream",
     "text": [
      "Error processing image 8002: Unsupported number of image dimensions: 2\n"
     ]
    },
    {
     "name": "stderr",
     "output_type": "stream",
     "text": [
      " 80%|███████▉  | 8447/10599 [02:03<00:27, 79.33it/s]"
     ]
    },
    {
     "name": "stdout",
     "output_type": "stream",
     "text": [
      "Error processing image 8432: Unsupported number of image dimensions: 2\n"
     ]
    },
    {
     "name": "stderr",
     "output_type": "stream",
     "text": [
      " 81%|████████  | 8572/10599 [02:05<00:27, 74.74it/s]"
     ]
    },
    {
     "name": "stdout",
     "output_type": "stream",
     "text": [
      "Error processing image 8556: Unsupported number of image dimensions: 2\n",
      "Error processing image 8558: Unsupported number of image dimensions: 2\n"
     ]
    },
    {
     "name": "stderr",
     "output_type": "stream",
     "text": [
      " 98%|█████████▊| 10396/10599 [02:34<00:03, 65.80it/s]"
     ]
    },
    {
     "name": "stdout",
     "output_type": "stream",
     "text": [
      "Error processing image 10386: Unsupported number of image dimensions: 2\n"
     ]
    },
    {
     "name": "stderr",
     "output_type": "stream",
     "text": [
      "100%|██████████| 10599/10599 [02:38<00:00, 67.05it/s]\n"
     ]
    }
   ],
   "source": [
    "from tqdm import tqdm\n",
    "movie_ids = df['movie_id'].to_list()\n",
    "all_embeddings = []\n",
    "for movie_id in tqdm(movie_ids):\n",
    "    embedding = get_image_features(movie_id)\n",
    "    all_embeddings.append(embedding)\n",
    "\n",
    "df = df.with_columns(\n",
    "    pl.Series(\"image_embeddings\", all_embeddings)\n",
    ")"
   ]
  },
  {
   "cell_type": "code",
   "execution_count": null,
   "id": "a85a9499",
   "metadata": {},
   "outputs": [],
   "source": [
    "import torch.nn as nn\n",
    "import torch.nn.functional as F\n",
    "import torch.optim as optim\n",
    "from torch.utils.data import Dataset, DataLoader\n",
    "import numpy as np\n",
    "from sklearn.metrics import mean_squared_error, mean_absolute_error\n",
    "import matplotlib.pyplot as plt\n",
    "\n",
    "class ImageMLP(nn.Module):\n",
    "    def __init__(self, input_dim=768, hidden_dim=256, output_dim=1, dropout=0.1):\n",
    "        super(ImageMLP, self).__init__()\n",
    "        \n",
    "        self.layers = nn.Sequential(\n",
    "            nn.Linear(input_dim, hidden_dim),\n",
    "            nn.ReLU(),\n",
    "            nn.Dropout(dropout),\n",
    "            nn.Linear(hidden_dim, output_dim)\n",
    "        )\n",
    "        \n",
    "    def forward(self, x):\n",
    "        return self.layers(x)\n",
    "\n",
    "class LogCoshLoss(nn.Module):\n",
    "    \"\"\"\n",
    "    LogCosh loss function: log(cosh(y_pred - y_true))\n",
    "    \"\"\"\n",
    "    def __init__(self):\n",
    "        super(LogCoshLoss, self).__init__()\n",
    "    \n",
    "    def forward(self, y_pred, y_true):\n",
    "        diff = y_pred - y_true\n",
    "        return torch.mean(torch.log(torch.cosh(diff)))\n",
    "\n",
    "class MovieDataset(Dataset):\n",
    "    def __init__(self, embeddings, targets):\n",
    "        self.embeddings = torch.FloatTensor(embeddings)\n",
    "        self.targets = torch.FloatTensor(targets)\n",
    "    \n",
    "    def __len__(self):\n",
    "        return len(self.embeddings)\n",
    "    \n",
    "    def __getitem__(self, idx):\n",
    "        return self.embeddings[idx], self.targets[idx]\n",
    "\n",
    "def train_model(model, train_loader, val_loader, loss_fn, optimizer, num_epochs=100, device='cuda'):\n",
    "    model.to(device)\n",
    "    train_losses = []\n",
    "    val_losses = []\n",
    "    \n",
    "    for epoch in range(num_epochs):\n",
    "        model.train()\n",
    "        train_loss = 0.0\n",
    "        for batch_embeddings, batch_targets in train_loader:\n",
    "            batch_embeddings = batch_embeddings.to(device)\n",
    "            batch_targets = batch_targets.to(device)\n",
    "            \n",
    "            optimizer.zero_grad()\n",
    "            outputs = model(batch_embeddings)\n",
    "            loss = loss_fn(outputs.squeeze(), batch_targets)\n",
    "            loss.backward()\n",
    "            optimizer.step()\n",
    "            \n",
    "            train_loss += loss.item()\n",
    "            \n",
    "        model.eval()\n",
    "        val_loss = 0.0\n",
    "        with torch.no_grad():\n",
    "            for batch_embeddings, batch_targets in val_loader:\n",
    "                batch_embeddings = batch_embeddings.to(device)\n",
    "                batch_targets = batch_targets.to(device)\n",
    "                \n",
    "                outputs = model(batch_embeddings)\n",
    "                loss = loss_fn(outputs.squeeze(), batch_targets)\n",
    "                val_loss += loss.item()\n",
    "        \n",
    "        train_loss /= len(train_loader)\n",
    "        val_loss /= len(val_loader)\n",
    "        \n",
    "        train_losses.append(train_loss)\n",
    "        val_losses.append(val_loss)\n",
    "        \n",
    "        if epoch % 10 == 0:\n",
    "            print(f'Epoch {epoch}/{num_epochs}, Train Loss: {train_loss:.4f}, Val Loss: {val_loss:.4f}')\n",
    "    \n",
    "    return train_losses, val_losses\n"
   ]
  },
  {
   "cell_type": "code",
   "execution_count": null,
   "id": "c7b91c0d",
   "metadata": {},
   "outputs": [],
   "source": [
    "df_train = df.filter(pl.col('date') < 2015)\n",
    "df_val = df.filter(pl.col('date') >= 2015)\n",
    "\n",
    "X_train = df_train.select('image_embeddings').to_numpy()\n",
    "y_train = df_train.select('rating').to_numpy()\n",
    "\n",
    "X_val = df_val.select('image_embeddings').to_numpy()\n",
    "y_val = df_val.select('rating').to_numpy()"
   ]
  },
  {
   "cell_type": "code",
   "execution_count": null,
   "id": "42efa41b",
   "metadata": {},
   "outputs": [],
   "source": [
    "X_train = [x[0] for x in X_train]\n",
    "X_val = [x[0] for x in X_val]\n",
    "\n",
    "X_train = np.array(X_train)\n",
    "X_val = np.array(X_val)"
   ]
  },
  {
   "cell_type": "code",
   "execution_count": null,
   "id": "b163ca67",
   "metadata": {},
   "outputs": [
    {
     "name": "stdout",
     "output_type": "stream",
     "text": [
      "Training model with MSE loss...\n"
     ]
    },
    {
     "name": "stderr",
     "output_type": "stream",
     "text": [
      "/opt/conda/lib/python3.11/site-packages/torch/nn/modules/loss.py:608: UserWarning: Using a target size (torch.Size([32, 1])) that is different to the input size (torch.Size([32])). This will likely lead to incorrect results due to broadcasting. Please ensure they have the same size.\n",
      "  return F.mse_loss(input, target, reduction=self.reduction)\n",
      "/opt/conda/lib/python3.11/site-packages/torch/nn/modules/loss.py:608: UserWarning: Using a target size (torch.Size([6, 1])) that is different to the input size (torch.Size([6])). This will likely lead to incorrect results due to broadcasting. Please ensure they have the same size.\n",
      "  return F.mse_loss(input, target, reduction=self.reduction)\n",
      "/opt/conda/lib/python3.11/site-packages/torch/nn/modules/loss.py:608: UserWarning: Using a target size (torch.Size([1, 1])) that is different to the input size (torch.Size([])). This will likely lead to incorrect results due to broadcasting. Please ensure they have the same size.\n",
      "  return F.mse_loss(input, target, reduction=self.reduction)\n"
     ]
    },
    {
     "name": "stdout",
     "output_type": "stream",
     "text": [
      "Epoch 0/10, Train Loss: 0.3696, Val Loss: 0.4105\n",
      "\n",
      "Training model with LogCosh loss...\n",
      "Epoch 0/10, Train Loss: 0.1383, Val Loss: 0.2123\n"
     ]
    }
   ],
   "source": [
    "train_dataset = MovieDataset(X_train, y_train)\n",
    "val_dataset = MovieDataset(X_val, y_val)\n",
    "\n",
    "train_loader = DataLoader(train_dataset, batch_size=32, shuffle=True)\n",
    "val_loader = DataLoader(val_dataset, batch_size=32, shuffle=False)\n",
    "\n",
    "model_mse = ImageMLP(input_dim=768, hidden_dim=256, output_dim=1)\n",
    "model_logcosh = ImageMLP(input_dim=768, hidden_dim=256, output_dim=1)\n",
    "\n",
    "mse_loss = nn.MSELoss()\n",
    "logcosh_loss = LogCoshLoss()\n",
    "\n",
    "optimizer_mse = optim.Adam(model_mse.parameters(), lr=0.001)\n",
    "optimizer_logcosh = optim.Adam(model_logcosh.parameters(), lr=0.001)\n",
    "\n",
    "print(\"Training model with MSE loss...\")\n",
    "train_losses_mse, val_losses_mse = train_model(\n",
    "    model_mse, train_loader, val_loader, mse_loss, optimizer_mse, num_epochs=10\n",
    ")\n",
    "\n",
    "print(\"\\nTraining model with LogCosh loss...\")\n",
    "train_losses_logcosh, val_losses_logcosh = train_model(\n",
    "    model_logcosh, train_loader, val_loader, logcosh_loss, optimizer_logcosh, num_epochs=10\n",
    ")\n"
   ]
  },
  {
   "cell_type": "code",
   "execution_count": null,
   "id": "b5a5f3eb",
   "metadata": {},
   "outputs": [
    {
     "data": {
      "image/png": "[encoded data removed]",
      "text/plain": [
       "<Figure size 1500x500 with 2 Axes>"
      ]
     },
     "metadata": {},
     "output_type": "display_data"
    },
    {
     "name": "stdout",
     "output_type": "stream",
     "text": [
      "Final MSE - Train: 0.2134, Val: 0.6677\n",
      "Final LogCosh - Train: 0.0990, Val: 0.1640\n",
      "\n",
      "MSE Model - RMSE: 0.8256, MAE: 0.6712\n",
      "LogCosh Model - RMSE: 0.6101, MAE: 0.4974\n"
     ]
    }
   ],
   "source": [
    "# Plot training curves for both loss functions\n",
    "plt.figure(figsize=(15, 5))\n",
    "\n",
    "plt.subplot(1, 2, 1)\n",
    "plt.plot(train_losses_mse, label='Train MSE', color='blue')\n",
    "plt.plot(val_losses_mse, label='Val MSE', color='red')\n",
    "plt.title('MSE Loss Training Curves')\n",
    "plt.xlabel('Epoch')\n",
    "plt.ylabel('Loss')\n",
    "plt.legend()\n",
    "plt.grid(True)\n",
    "\n",
    "plt.subplot(1, 2, 2)\n",
    "plt.plot(train_losses_logcosh, label='Train LogCosh', color='green')\n",
    "plt.plot(val_losses_logcosh, label='Val LogCosh', color='orange')\n",
    "plt.title('LogCosh Loss Training Curves')\n",
    "plt.xlabel('Epoch')\n",
    "plt.ylabel('Loss')\n",
    "plt.legend()\n",
    "plt.grid(True)\n",
    "\n",
    "plt.tight_layout()\n",
    "plt.show()\n",
    "\n",
    "# Compare final losses\n",
    "print(f\"Final MSE - Train: {train_losses_mse[-1]:.4f}, Val: {val_losses_mse[-1]:.4f}\")\n",
    "print(f\"Final LogCosh - Train: {train_losses_logcosh[-1]:.4f}, Val: {val_losses_logcosh[-1]:.4f}\")\n",
    "\n",
    "# Function to make predictions\n",
    "def predict(model, data_loader, device='cuda'):\n",
    "    model.eval()\n",
    "    predictions = []\n",
    "    targets = []\n",
    "    \n",
    "    with torch.no_grad():\n",
    "        for batch_embeddings, batch_targets in data_loader:\n",
    "            batch_embeddings = batch_embeddings.to(device)\n",
    "            outputs = model(batch_embeddings)\n",
    "            predictions.extend(outputs.cpu().numpy().flatten())\n",
    "            targets.extend(batch_targets.numpy())\n",
    "    \n",
    "    return np.array(predictions), np.array(targets)\n",
    "\n",
    "pred_mse, true_vals = predict(model_mse, val_loader)\n",
    "pred_logcosh, _ = predict(model_logcosh, val_loader)\n",
    "\n",
    "rmse_mse = np.sqrt(mean_squared_error(true_vals, pred_mse))\n",
    "mae_mse = mean_absolute_error(true_vals, pred_mse)\n",
    "\n",
    "rmse_logcosh = np.sqrt(mean_squared_error(true_vals, pred_logcosh))\n",
    "mae_logcosh = mean_absolute_error(true_vals, pred_logcosh)\n",
    "\n",
    "print(f\"\\nMSE Model - RMSE: {rmse_mse:.4f}, MAE: {mae_mse:.4f}\")\n",
    "print(f\"LogCosh Model - RMSE: {rmse_logcosh:.4f}, MAE: {mae_logcosh:.4f}\")\n"
   ]
  },
  {
   "cell_type": "code",
   "execution_count": 79,
   "id": "25aad064",
   "metadata": {},
   "outputs": [
    {
     "name": "stdout",
     "output_type": "stream",
     "text": [
      " min 1.3877702951431274:  max 3.427647352218628, variance 0.011825237423181534\n"
     ]
    }
   ],
   "source": [
    "print(f\" min {min(pred_logcosh)}:  max {max(pred_logcosh)}, variance {np.var(pred_logcosh)}\") "
   ]
  },
  {
   "cell_type": "code",
   "execution_count": 80,
   "id": "89ec3836",
   "metadata": {},
   "outputs": [
    {
     "name": "stdout",
     "output_type": "stream",
     "text": [
      " min 1.6877855062484741:  max 3.825334310531616, variance 0.01526169665157795\n"
     ]
    }
   ],
   "source": [
    "print(f\" min {min(pred_mse)}:  max {max(pred_mse)}, variance {np.var(pred_mse)}\") "
   ]
  },
  {
   "cell_type": "code",
   "execution_count": 71,
   "id": "8926387c",
   "metadata": {},
   "outputs": [
    {
     "data": {
      "text/html": [
       "<div><style>\n",
       ".dataframe > thead > tr,\n",
       ".dataframe > tbody > tr {\n",
       "  text-align: right;\n",
       "  white-space: pre-wrap;\n",
       "}\n",
       "</style>\n",
       "<small>shape: (10, 4)</small><table border=\"1\" class=\"dataframe\"><thead><tr><th>name</th><th>date</th><th>rating</th><th>predicted_rating</th></tr><tr><td>str</td><td>i64</td><td>f64</td><td>f32</td></tr></thead><tbody><tr><td>&quot;Barbie&quot;</td><td>2023</td><td>3.86</td><td>3.194367</td></tr><tr><td>&quot;Oppenheimer&quot;</td><td>2023</td><td>4.23</td><td>2.938808</td></tr><tr><td>&quot;Joker&quot;</td><td>2019</td><td>3.85</td><td>3.064062</td></tr><tr><td>&quot;Spider-Man: Into the Spider-Ve…</td><td>2018</td><td>4.42</td><td>3.051317</td></tr><tr><td>&quot;The Batman&quot;</td><td>2022</td><td>3.98</td><td>3.026004</td></tr><tr><td>&quot;Knives Out&quot;</td><td>2019</td><td>3.99</td><td>3.118635</td></tr><tr><td>&quot;Poor Things&quot;</td><td>2023</td><td>4.05</td><td>3.212318</td></tr><tr><td>&quot;Spider-Man: Across the Spider-…</td><td>2023</td><td>4.45</td><td>3.108598</td></tr><tr><td>&quot;Spider-Man: No Way Home&quot;</td><td>2021</td><td>3.84</td><td>3.141064</td></tr><tr><td>&quot;Once Upon a Time… in Hollywood&quot;</td><td>2019</td><td>3.76</td><td>2.977416</td></tr></tbody></table></div>"
      ],
      "text/plain": [
       "shape: (10, 4)\n",
       "┌─────────────────────────────────┬──────┬────────┬──────────────────┐\n",
       "│ name                            ┆ date ┆ rating ┆ predicted_rating │\n",
       "│ ---                             ┆ ---  ┆ ---    ┆ ---              │\n",
       "│ str                             ┆ i64  ┆ f64    ┆ f32              │\n",
       "╞═════════════════════════════════╪══════╪════════╪══════════════════╡\n",
       "│ Barbie                          ┆ 2023 ┆ 3.86   ┆ 3.194367         │\n",
       "│ Oppenheimer                     ┆ 2023 ┆ 4.23   ┆ 2.938808         │\n",
       "│ Joker                           ┆ 2019 ┆ 3.85   ┆ 3.064062         │\n",
       "│ Spider-Man: Into the Spider-Ve… ┆ 2018 ┆ 4.42   ┆ 3.051317         │\n",
       "│ The Batman                      ┆ 2022 ┆ 3.98   ┆ 3.026004         │\n",
       "│ Knives Out                      ┆ 2019 ┆ 3.99   ┆ 3.118635         │\n",
       "│ Poor Things                     ┆ 2023 ┆ 4.05   ┆ 3.212318         │\n",
       "│ Spider-Man: Across the Spider-… ┆ 2023 ┆ 4.45   ┆ 3.108598         │\n",
       "│ Spider-Man: No Way Home         ┆ 2021 ┆ 3.84   ┆ 3.141064         │\n",
       "│ Once Upon a Time… in Hollywood  ┆ 2019 ┆ 3.76   ┆ 2.977416         │\n",
       "└─────────────────────────────────┴──────┴────────┴──────────────────┘"
      ]
     },
     "execution_count": 71,
     "metadata": {},
     "output_type": "execute_result"
    }
   ],
   "source": [
    "df_val = df_val.with_columns(pl.Series('predicted_rating', pred_logcosh))\n",
    "df_val2 = df_val.head(10)\n",
    "df_val2.select('name', 'date', 'rating', 'predicted_rating')"
   ]
  },
  {
   "cell_type": "code",
   "execution_count": 77,
   "id": "1b6e894f",
   "metadata": {},
   "outputs": [
    {
     "data": {
      "text/html": [
       "<div><style>\n",
       ".dataframe > thead > tr,\n",
       ".dataframe > tbody > tr {\n",
       "  text-align: right;\n",
       "  white-space: pre-wrap;\n",
       "}\n",
       "</style>\n",
       "<small>shape: (225, 4)</small><table border=\"1\" class=\"dataframe\"><thead><tr><th>name</th><th>date</th><th>rating</th><th>predicted_rating</th></tr><tr><td>str</td><td>i64</td><td>f64</td><td>f32</td></tr></thead><tbody><tr><td>&quot;Suicide Squad&quot;</td><td>2016</td><td>2.06</td><td>3.111373</td></tr><tr><td>&quot;Wonder Woman 1984&quot;</td><td>2020</td><td>2.09</td><td>3.068365</td></tr><tr><td>&quot;Jurassic World Dominion&quot;</td><td>2022</td><td>2.2</td><td>3.016683</td></tr><tr><td>&quot;Madame Web&quot;</td><td>2024</td><td>1.49</td><td>3.155819</td></tr><tr><td>&quot;Morbius&quot;</td><td>2022</td><td>1.6</td><td>2.959253</td></tr><tr><td>&hellip;</td><td>&hellip;</td><td>&hellip;</td><td>&hellip;</td></tr><tr><td>&quot;Homeward&quot;</td><td>2020</td><td>2.28</td><td>3.074823</td></tr><tr><td>&quot;Survive the Game&quot;</td><td>2021</td><td>2.26</td><td>2.97062</td></tr><tr><td>&quot;Natural Born Pranksters&quot;</td><td>2016</td><td>2.17</td><td>2.97852</td></tr><tr><td>&quot;Where the Scary Things Are&quot;</td><td>2022</td><td>2.29</td><td>3.070618</td></tr><tr><td>&quot;Megalodon Rising&quot;</td><td>2021</td><td>2.26</td><td>3.090695</td></tr></tbody></table></div>"
      ],
      "text/plain": [
       "shape: (225, 4)\n",
       "┌────────────────────────────┬──────┬────────┬──────────────────┐\n",
       "│ name                       ┆ date ┆ rating ┆ predicted_rating │\n",
       "│ ---                        ┆ ---  ┆ ---    ┆ ---              │\n",
       "│ str                        ┆ i64  ┆ f64    ┆ f32              │\n",
       "╞════════════════════════════╪══════╪════════╪══════════════════╡\n",
       "│ Suicide Squad              ┆ 2016 ┆ 2.06   ┆ 3.111373         │\n",
       "│ Wonder Woman 1984          ┆ 2020 ┆ 2.09   ┆ 3.068365         │\n",
       "│ Jurassic World Dominion    ┆ 2022 ┆ 2.2    ┆ 3.016683         │\n",
       "│ Madame Web                 ┆ 2024 ┆ 1.49   ┆ 3.155819         │\n",
       "│ Morbius                    ┆ 2022 ┆ 1.6    ┆ 2.959253         │\n",
       "│ …                          ┆ …    ┆ …      ┆ …                │\n",
       "│ Homeward                   ┆ 2020 ┆ 2.28   ┆ 3.074823         │\n",
       "│ Survive the Game           ┆ 2021 ┆ 2.26   ┆ 2.97062          │\n",
       "│ Natural Born Pranksters    ┆ 2016 ┆ 2.17   ┆ 2.97852          │\n",
       "│ Where the Scary Things Are ┆ 2022 ┆ 2.29   ┆ 3.070618         │\n",
       "│ Megalodon Rising           ┆ 2021 ┆ 2.26   ┆ 3.090695         │\n",
       "└────────────────────────────┴──────┴────────┴──────────────────┘"
      ]
     },
     "execution_count": 77,
     "metadata": {},
     "output_type": "execute_result"
    }
   ],
   "source": [
    "df_val.filter(pl.col('rating') < 2.3).select('name', 'date', 'rating', 'predicted_rating')"
   ]
  },
  {
   "cell_type": "code",
   "execution_count": 78,
   "id": "10ade1ed",
   "metadata": {},
   "outputs": [
    {
     "data": {
      "image/png": "[encoded data removed]",
      "text/plain": [
       "<Figure size 1000x600 with 1 Axes>"
      ]
     },
     "metadata": {},
     "output_type": "display_data"
    }
   ],
   "source": [
    "import matplotlib.pyplot as plt\n",
    "import numpy as np\n",
    "\n",
    "def plot_distribution(df, column):\n",
    "    target_column = df[column].to_numpy()\n",
    "\n",
    "    plt.figure(figsize=(10, 6))\n",
    "    plt.hist(target_column, bins=50, alpha=0.7, color='skyblue', edgecolor='black')\n",
    "    plt.title(f'Distribution of Movie {column}', fontsize=16, fontweight='bold')\n",
    "    plt.xlabel(column, fontsize=12)\n",
    "    plt.ylabel('Frequency', fontsize=12)\n",
    "    plt.grid(True, alpha=0.3)\n",
    "plot_distribution(df_val, 'predicted_rating')"
   ]
  },
  {
   "cell_type": "markdown",
   "id": "4943d29d",
   "metadata": {},
   "source": [
    "## Conclusion:\n",
    "low variance and generalization"
   ]
  },
  {
   "cell_type": "markdown",
   "id": "147d505b",
   "metadata": {},
   "source": [
    "##  Checking Linear regression on top of embeddings just for comparing with text embeddings"
   ]
  },
  {
   "cell_type": "code",
   "execution_count": null,
   "id": "11336f34",
   "metadata": {},
   "outputs": [
    {
     "name": "stdout",
     "output_type": "stream",
     "text": [
      "Linear Regression RMSE: 0.5357476122549074, MAE: 0.41909199479034714\n",
      "Ridge Regression RMSE: 0.5356714880937727, MAE: 0.41902905649891437\n"
     ]
    }
   ],
   "source": [
    "from sklearn.linear_model import LinearRegression, Ridge\n",
    "from sklearn.ensemble import RandomForestRegressor\n",
    "import numpy as np\n",
    "from sklearn.metrics import mean_squared_error\n",
    "\n",
    "\n",
    "models = {\n",
    "    'Linear Regression': LinearRegression(),\n",
    "    'Ridge Regression': Ridge(alpha=0.1),\n",
    "}\n",
    "\n",
    "for model_name, model in models.items():\n",
    "    model.fit(X_train, y_train)\n",
    "    y_pred = model.predict(X_val)\n",
    "    rmse = np.sqrt(mean_squared_error(y_val, y_pred))\n",
    "    mae = mean_absolute_error(y_val, y_pred)\n",
    "    print(f\"{model_name} RMSE: {rmse}, MAE: {mae}\")"
   ]
  }
 ],
 "metadata": {
  "kernelspec": {
   "display_name": "base",
   "language": "python",
   "name": "python3"
  },
  "language_info": {
   "codemirror_mode": {
    "name": "ipython",
    "version": 3
   },
   "file_extension": ".py",
   "mimetype": "text/x-python",
   "name": "python",
   "nbconvert_exporter": "python",
   "pygments_lexer": "ipython3",
   "version": "3.11.10"
  }
 },
 "nbformat": 4,
 "nbformat_minor": 5
}
